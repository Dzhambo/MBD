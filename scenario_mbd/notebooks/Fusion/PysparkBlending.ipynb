{
 "cells": [
  {
   "cell_type": "markdown",
   "metadata": {},
   "source": [
    "To use spark, set up your environment for it"
   ]
  },
  {
   "cell_type": "code",
   "execution_count": null,
   "metadata": {},
   "outputs": [],
   "source": [
    "import os\n",
    "import sys\n",
    "\n",
    "SPARK_HOME = '...'\n",
    "\n",
    "os.environ['SPARK_HOME'] = SPARK_HOME\n",
    "os.environ['PYSPARK_DRIVER_PYTHON'] = sys.executable\n",
    "os.environ['PYSPARK_PYTHON'] = sys.executable"
   ]
  },
  {
   "cell_type": "code",
   "execution_count": null,
   "metadata": {
    "collapsed": true,
    "execution": {
     "iopub.execute_input": "2024-06-05T10:43:20.205396Z",
     "iopub.status.busy": "2024-06-05T10:43:20.204842Z",
     "iopub.status.idle": "2024-06-05T10:43:57.447575Z",
     "shell.execute_reply": "2024-06-05T10:43:57.446370Z",
     "shell.execute_reply.started": "2024-06-05T10:43:20.205361Z"
    },
    "jupyter": {
     "outputs_hidden": true
    },
    "tags": []
   },
   "outputs": [],
   "source": [
    "SparkAppName = 'blending'\n",
    "\n",
    "from pyspark import SparkContext, SparkConf, HiveContext\n",
    "from scipy.stats import kendalltau\n",
    "\n",
    "from pyspark.sql import SparkSession\n",
    "import pyspark.sql.functions as F\n",
    "import pyspark.sql.types as T\n",
    "import numpy as np\n",
    "import pandas as pd\n",
    "from pyspark.ml.functions import array_to_vector, vector_to_array\n",
    "from pyspark.ml.classification import GBTClassifier\n",
    "from pyspark.ml.evaluation import BinaryClassificationEvaluator\n",
    "from pyspark.mllib.evaluation import BinaryClassificationMetrics\n",
    "from pyspark.ml.feature import PCA, PCAModel\n",
    "\n",
    "conf = [\n",
    "    ('spark.driver.memory', '10g'),\n",
    "    ('spark.driver.maxResultSize', '8g'),\n",
    "    ('spark.executor.cores', '3'), \n",
    "    ('spark.executor.memory', '10g'),\n",
    "    ('spark.executor.memoryOverhead', '4g'),\n",
    "    ('spark.sql.broadcastTimeout', 3000),\n",
    "    ('spark.sql.autoBroadcastJoinThreshold', -1),\n",
    "    ('spark.sql.adaptive.autoBroadcastJoinThreshold', -1),\n",
    "\n",
    "    ('spark.shuffle.service.enabled', 'true'),\n",
    "    ('spark.dynamicAllocation.enabled', 'true'),\n",
    "    ('spark.dynamicAllocation.executorIdleTimeout', '120s'),\n",
    "    ('spark.dynamicAllocation.cachedExecutorIdleTimeout', '600s'),\n",
    "    ('spark.dynamicAllocation.initialExecutors', '1'),\n",
    "    ('spark.dynamicAllocation.maxExecutors', '150'),\n",
    "    ('spark.port.maxRetries', '150'),\n",
    "]\n",
    "\n",
    "spark = SparkSession.builder\n",
    "for k, v in conf:\n",
    "    spark = spark.config(k, v)\n",
    "spark = spark.appName(SparkAppName).master(\"yarn\").getOrCreate()\n",
    "sqlc = HiveContext(spark.sparkContext)"
   ]
  },
  {
   "cell_type": "code",
   "execution_count": null,
   "metadata": {
    "collapsed": true,
    "execution": {
     "iopub.execute_input": "2024-06-05T10:55:09.429064Z",
     "iopub.status.busy": "2024-06-05T10:55:09.428252Z",
     "iopub.status.idle": "2024-06-05T10:55:44.466807Z",
     "shell.execute_reply": "2024-06-05T10:55:44.465444Z",
     "shell.execute_reply.started": "2024-06-05T10:55:09.429016Z"
    },
    "jupyter": {
     "outputs_hidden": true
    },
    "tags": []
   },
   "outputs": [],
   "source": [
    "data = sqlc.read.parquet('dialog_mean_agg' + '.parquet')\n",
    "sample = data.select('*').limit(1).collect()"
   ]
  },
  {
   "cell_type": "code",
   "execution_count": null,
   "metadata": {
    "execution": {
     "iopub.execute_input": "2024-06-05T11:29:45.509679Z",
     "iopub.status.busy": "2024-06-05T11:29:45.508193Z",
     "iopub.status.idle": "2024-06-05T11:30:07.255430Z",
     "shell.execute_reply": "2024-06-05T11:30:07.254189Z",
     "shell.execute_reply.started": "2024-06-05T11:29:45.509630Z"
    },
    "tags": []
   },
   "outputs": [],
   "source": [
    "ev = BinaryClassificationEvaluator(rawPredictionCol='rawPrediction_bcard_target', labelCol='target_1', metricName='areaUnderPR')\n",
    "ev.evaluate(data)"
   ]
  },
  {
   "cell_type": "code",
   "execution_count": null,
   "metadata": {
    "execution": {
     "iopub.execute_input": "2024-06-05T11:04:42.143848Z",
     "iopub.status.busy": "2024-06-05T11:04:42.142889Z",
     "iopub.status.idle": "2024-06-05T11:05:21.265212Z",
     "shell.execute_reply": "2024-06-05T11:05:21.264322Z",
     "shell.execute_reply.started": "2024-06-05T11:04:42.143807Z"
    },
    "tags": []
   },
   "outputs": [],
   "source": [
    "ev = BinaryClassificationEvaluator(rawPredictionCol='probability_bcard_target', labelCol='target_1')#, metricName='areaUnderPR')\n",
    "ev.evaluate(data)"
   ]
  },
  {
   "cell_type": "code",
   "execution_count": 165,
   "metadata": {
    "execution": {
     "iopub.execute_input": "2024-06-05T14:10:46.026141Z",
     "iopub.status.busy": "2024-06-05T14:10:46.025549Z",
     "iopub.status.idle": "2024-06-05T14:10:46.048706Z",
     "shell.execute_reply": "2024-06-05T14:10:46.047659Z",
     "shell.execute_reply.started": "2024-06-05T14:10:46.026111Z"
    },
    "tags": []
   },
   "outputs": [],
   "source": [
    "base_path = './'\n",
    "target_names = ['bcard_target', 'cred_target', 'zp_target', 'acquiring_target']\n",
    "id_col = 'inn'\n",
    "\n",
    "df_cols = [*target_names, *['probability_'+target for target in target_names]]\n",
    "\n",
    "sources = {\n",
    "    'dialog': [None, 'mean_agg', 'last_agg'],\n",
    "    'trx': [None, 'baseline_agg', 'baseline_gpt', 'baseline_tabformer', 'baseline'],\n",
    "    'geo': [None, 'baseline_agg', 'baseline_gpt', 'baseline_tabformer', 'baseline']\n",
    "}\n",
    "\n",
    "\n",
    "def get_all_combs(na, nb, nc, done={(0,0,0)}):\n",
    "    for i in range(na):\n",
    "        for j in range(nb):\n",
    "            for k in range(nc):\n",
    "                if ((i,j,k) not in done) and ((j==k) or (j==0) or (k==0)):\n",
    "                    yield i, j, k\n",
    "\n",
    "                    \n",
    "def get_name(a, b, c):\n",
    "    dialog = sources['dialog'][a]\n",
    "    trx = sources['trx'][b]\n",
    "    geo = sources['geo'][c]\n",
    "    name = '+'.join(['_'.join([s, x]) for s, x in zip(['dialog', 'trx', 'geo'], [dialog, trx, geo]) if x is not None])\n",
    "    return name\n",
    "\n",
    "\n",
    "def merge_predictions_2(a, b):\n",
    "    if a is None:\n",
    "        return b\n",
    "    elif b is None:\n",
    "        return a\n",
    "    else:\n",
    "        return (a + b) / 2\n",
    "udf_merge_predictions_2 = F.udf(merge_predictions_2, T.FloatType())\n",
    "\n",
    "\n",
    "def merge_predictions_3(a, b, c):\n",
    "    k = sum([x is not None for x in (a, b, c)])\n",
    "    p = sum([x for x in (a, b, c) if x is not None])\n",
    "    return p / k\n",
    "udf_merge_predictions_3 = F.udf(merge_predictions_3, T.FloatType())\n",
    "\n",
    "\n",
    "def merge_targets_2(a, b):\n",
    "    if a is None:\n",
    "        return b\n",
    "    elif b is None:\n",
    "        return a\n",
    "    else:\n",
    "        return a\n",
    "udf_merge_targets_2 = F.udf(merge_targets_2, T.IntegerType())\n",
    "\n",
    "\n",
    "def merge_targets_3(a, b, c):\n",
    "    if a is not None:\n",
    "        return a\n",
    "    elif b is not None:\n",
    "        return b\n",
    "    else:\n",
    "        return c\n",
    "udf_merge_targets_3 = F.udf(merge_targets_3, T.IntegerType())\n",
    "\n",
    "\n",
    "def write_results(name, scores, file='results_blending.csv'):\n",
    "    with open(file, 'a') as f:\n",
    "        f.write(','.join([name, str(np.mean(scores)), *[str(s) for s in scores]])+'\\n')\n",
    "\n",
    "\n",
    "def make_blending(exp_name):\n",
    "    if '+' in exp_name:\n",
    "        df = None\n",
    "        names = exp_name.split('+')\n",
    "        n = len(names)\n",
    "        f_p = udf_merge_predictions_2 if len(names) == 2 else udf_merge_predictions_3\n",
    "        f_t = udf_merge_targets_2 if len(names) == 2 else udf_merge_targets_3\n",
    "        for i, name in enumerate(names):\n",
    "            new_df = sqlc.read.parquet(base_path + name + '.parquet')\n",
    "            new_df = new_df.select(F.col(id_col), *[F.col(c).alias(c+'_'+str(i)) for c in df_cols])\n",
    "            if df == None:\n",
    "                df = new_df\n",
    "            else:\n",
    "                df = df.join(new_df, on=id_col, how='inner')\n",
    "        \n",
    "        for target in target_names:\n",
    "            df = df.withColumn('probability_'+target, f_p(*[vector_to_array(F.col('probability_' + target + '_' + str(i))).getItem(1) for i in range(n)]))\\\n",
    "                   .withColumn(target, f_t(*[F.col(target + '_' + str(i)) for i in range(n)]))\n",
    "    \n",
    "    else:\n",
    "        df = sqlc.read.parquet(base_path + exp_name + '.parquet')\n",
    "        for target in target_names:\n",
    "            df = df.withColumn('probability_'+target, vector_to_array(F.col('probability_' + target)).getItem(1))\n",
    "    \n",
    "    df = df.select(id_col, *[target for target in target_names], *['probability_'+target for target in target_names])\n",
    "    return df.toPandas()"
   ]
  },
  {
   "cell_type": "code",
   "execution_count": 166,
   "metadata": {
    "execution": {
     "iopub.execute_input": "2024-06-05T14:10:54.128400Z",
     "iopub.status.busy": "2024-06-05T14:10:54.127737Z",
     "iopub.status.idle": "2024-06-05T14:10:54.132854Z",
     "shell.execute_reply": "2024-06-05T14:10:54.132109Z",
     "shell.execute_reply.started": "2024-06-05T14:10:54.128368Z"
    },
    "tags": []
   },
   "outputs": [],
   "source": [
    "import pandas as pd\n",
    "from sklearn.metrics import average_precision_score, precision_recall_curve, auc, roc_auc_score, f1_score, precision_score, recall_score"
   ]
  },
  {
   "cell_type": "code",
   "execution_count": 177,
   "metadata": {
    "execution": {
     "iopub.execute_input": "2024-06-05T14:18:57.449763Z",
     "iopub.status.busy": "2024-06-05T14:18:57.448945Z",
     "iopub.status.idle": "2024-06-05T14:18:57.459780Z",
     "shell.execute_reply": "2024-06-05T14:18:57.458749Z",
     "shell.execute_reply.started": "2024-06-05T14:18:57.449715Z"
    },
    "tags": []
   },
   "outputs": [],
   "source": [
    "def evaluate(df):\n",
    "    metrics = dict()\n",
    "    f1_list = list()\n",
    "    roc_auc_list = list()\n",
    "    ap_list = list()\n",
    "\n",
    "    for target in target_names:\n",
    "\n",
    "        y_true = df[target].values\n",
    "        thresh = np.sum(y_true==1) / y_true.size\n",
    "        y_pred_prob = df['probability_' + target].values\n",
    "        y_pred = np.where(y_pred_prob >= thresh, 1, 0)\n",
    "\n",
    "        ap = average_precision_score(y_true, y_pred_prob)\n",
    "        f1 = f1_score(y_true, y_pred)\n",
    "        roc_auc = roc_auc_score(y_true, y_pred_prob)\n",
    "\n",
    "        f1_list.append(f1)\n",
    "        roc_auc_list.append(roc_auc)\n",
    "        ap_list.append(ap)\n",
    "        \n",
    "        metrics['_'.join([target, 'ROCAUC'])] = roc_auc\n",
    "        metrics['_'.join([target, 'AP'])] = ap\n",
    "        metrics['_'.join([target, 'F1'])] = f1\n",
    "    \n",
    "    metrics['_'.join(['mean', 'ROCAUC'])] = np.mean(roc_auc_list)\n",
    "    metrics['_'.join(['mean', 'AP'])] = np.mean(ap_list)\n",
    "    metrics['_'.join(['mean', 'F1'])] = np.mean(f1_list)\n",
    "\n",
    "    return metrics"
   ]
  },
  {
   "cell_type": "code",
   "execution_count": null,
   "metadata": {
    "execution": {
     "iopub.execute_input": "2024-06-05T14:18:57.984162Z",
     "iopub.status.busy": "2024-06-05T14:18:57.983570Z",
     "iopub.status.idle": "2024-06-05T14:18:57.996233Z",
     "shell.execute_reply": "2024-06-05T14:18:57.995522Z",
     "shell.execute_reply.started": "2024-06-05T14:18:57.984129Z"
    },
    "tags": []
   },
   "outputs": [],
   "source": [
    "results_df = pd.read_csv('./results.csv', header=None, names=['model', 'roc_auc'])\n",
    "#results_df = results_df.set_index('model').loc[:, ['roc_auc']]"
   ]
  },
  {
   "cell_type": "code",
   "execution_count": null,
   "metadata": {
    "execution": {
     "iopub.execute_input": "2024-06-05T14:18:58.216152Z",
     "iopub.status.busy": "2024-06-05T14:18:58.215613Z",
     "iopub.status.idle": "2024-06-05T14:18:58.229345Z",
     "shell.execute_reply": "2024-06-05T14:18:58.228500Z",
     "shell.execute_reply.started": "2024-06-05T14:18:58.216120Z"
    },
    "tags": []
   },
   "outputs": [],
   "source": [
    "results_unimodal = results_df[~results_df.model.str.contains('+', regex=False)]\n",
    "results_unimodal = results_unimodal.set_index('model').loc[:, ['roc_auc']]"
   ]
  },
  {
   "cell_type": "code",
   "execution_count": null,
   "metadata": {
    "execution": {
     "iopub.execute_input": "2024-06-05T14:18:58.599255Z",
     "iopub.status.busy": "2024-06-05T14:18:58.598485Z",
     "iopub.status.idle": "2024-06-05T14:28:53.045107Z",
     "shell.execute_reply": "2024-06-05T14:28:53.043985Z",
     "shell.execute_reply.started": "2024-06-05T14:18:58.599218Z"
    },
    "tags": []
   },
   "outputs": [],
   "source": [
    "from tqdm import tqdm\n",
    "new_df = dict()\n",
    "for name in tqdm(results_unimodal.index):\n",
    "    df = make_blending(name)\n",
    "    metrics = evaluate(df)\n",
    "    new_df[name] = metrics"
   ]
  },
  {
   "cell_type": "code",
   "execution_count": null,
   "metadata": {
    "execution": {
     "iopub.execute_input": "2024-06-05T14:28:53.070691Z",
     "iopub.status.busy": "2024-06-05T14:28:53.069849Z",
     "iopub.status.idle": "2024-06-05T14:28:53.094361Z",
     "shell.execute_reply": "2024-06-05T14:28:53.093188Z",
     "shell.execute_reply.started": "2024-06-05T14:28:53.070662Z"
    },
    "tags": []
   },
   "outputs": [],
   "source": [
    "unimodal_private = pd.DataFrame.from_dict(new_df, orient='index')\n",
    "unimodal_private = unimodal_private.sort_index()"
   ]
  },
  {
   "cell_type": "code",
   "execution_count": 182,
   "metadata": {
    "execution": {
     "iopub.execute_input": "2024-06-05T14:31:40.170084Z",
     "iopub.status.busy": "2024-06-05T14:31:40.169376Z",
     "iopub.status.idle": "2024-06-05T14:31:40.190607Z",
     "shell.execute_reply": "2024-06-05T14:31:40.189740Z",
     "shell.execute_reply.started": "2024-06-05T14:31:40.170047Z"
    }
   },
   "outputs": [],
   "source": [
    "unimodal_private.to_csv('unimodal_private.csv', sep='&')"
   ]
  },
  {
   "cell_type": "code",
   "execution_count": 184,
   "metadata": {
    "execution": {
     "iopub.execute_input": "2024-06-05T14:35:47.087203Z",
     "iopub.status.busy": "2024-06-05T14:35:47.086615Z",
     "iopub.status.idle": "2024-06-05T14:35:47.095709Z",
     "shell.execute_reply": "2024-06-05T14:35:47.094840Z",
     "shell.execute_reply.started": "2024-06-05T14:35:47.087167Z"
    },
    "tags": []
   },
   "outputs": [],
   "source": [
    "def evaluate(df):\n",
    "    metrics = dict()\n",
    "    f1_list = list()\n",
    "    roc_auc_list = list()\n",
    "    ap_list = list()\n",
    "\n",
    "    for target in target_names:\n",
    "\n",
    "        y_true = df[target].values\n",
    "        thresh = np.sum(y_true==1) / y_true.size\n",
    "        y_pred_prob = df['probability_' + target].values\n",
    "        y_pred = np.where(y_pred_prob >= thresh, 1, 0)\n",
    "\n",
    "        ap = average_precision_score(y_true, y_pred_prob)\n",
    "        f1 = f1_score(y_true, y_pred)\n",
    "        roc_auc = roc_auc_score(y_true, y_pred_prob)\n",
    "\n",
    "        f1_list.append(f1)\n",
    "        roc_auc_list.append(roc_auc)\n",
    "        ap_list.append(ap)\n",
    "        \n",
    "        metrics['_'.join(['Blend', target, 'ROCAUC'])] = roc_auc\n",
    "        metrics['_'.join(['Blend', target, 'AP'])] = ap\n",
    "        metrics['_'.join(['Blend', target, 'F1'])] = f1\n",
    "    \n",
    "    metrics['_'.join(['Blend', 'mean', 'ROCAUC'])] = np.mean(roc_auc_list)\n",
    "    metrics['_'.join(['Blend', 'mean', 'AP'])] = np.mean(ap_list)\n",
    "    metrics['_'.join(['Blend', 'mean', 'F1'])] = np.mean(f1_list)\n",
    "\n",
    "    return metrics"
   ]
  },
  {
   "cell_type": "code",
   "execution_count": null,
   "metadata": {
    "execution": {
     "iopub.execute_input": "2024-06-05T14:35:49.287306Z",
     "iopub.status.busy": "2024-06-05T14:35:49.286196Z",
     "iopub.status.idle": "2024-06-05T14:35:49.302951Z",
     "shell.execute_reply": "2024-06-05T14:35:49.301888Z",
     "shell.execute_reply.started": "2024-06-05T14:35:49.287259Z"
    },
    "tags": []
   },
   "outputs": [],
   "source": [
    "results_multimodal = results_df[results_df.model.str.contains('+', regex=False)]\n",
    "results_multimodal = results_multimodal.set_index('model').loc[:, ['roc_auc']]\n",
    "results_multimodal"
   ]
  },
  {
   "cell_type": "code",
   "execution_count": null,
   "metadata": {
    "execution": {
     "iopub.execute_input": "2024-06-05T14:36:37.216605Z",
     "iopub.status.busy": "2024-06-05T14:36:37.215855Z",
     "iopub.status.idle": "2024-06-05T14:55:40.650710Z",
     "shell.execute_reply": "2024-06-05T14:55:40.649883Z",
     "shell.execute_reply.started": "2024-06-05T14:36:37.216567Z"
    }
   },
   "outputs": [],
   "source": [
    "new_df_2, new_df_3 = dict(), dict()\n",
    "for name in tqdm(results_multimodal.index):\n",
    "    df = make_blending(name)\n",
    "    metrics = evaluate(df)\n",
    "    metrics['Concat mean ROCAUC'] = results_multimodal.loc[name, 'roc_auc']\n",
    "    \n",
    "    if len(name.split('+')) == 2:\n",
    "        new_df_2[name] = metrics\n",
    "    else:\n",
    "        new_df_3[name] = metrics\n",
    "\n",
    "multimodal_private_2 = pd.DataFrame.from_dict(new_df_2, orient='index').sort_index()\n",
    "multimodal_private_3 = pd.DataFrame.from_dict(new_df_3, orient='index').sort_index()\n",
    "multimodal_private = pd.concat([multimodal_private_2, multimodal_private_3])\n",
    "multimodal_private"
   ]
  },
  {
   "cell_type": "code",
   "execution_count": 187,
   "metadata": {
    "execution": {
     "iopub.execute_input": "2024-06-05T15:02:29.334264Z",
     "iopub.status.busy": "2024-06-05T15:02:29.333717Z",
     "iopub.status.idle": "2024-06-05T15:02:29.341103Z",
     "shell.execute_reply": "2024-06-05T15:02:29.340267Z",
     "shell.execute_reply.started": "2024-06-05T15:02:29.334232Z"
    }
   },
   "outputs": [],
   "source": [
    "multimodal_private.to_csv('multimodal_private.csv', sep='&')"
   ]
  },
  {
   "cell_type": "markdown",
   "metadata": {},
   "source": [
    "# Public matching"
   ]
  },
  {
   "cell_type": "code",
   "execution_count": null,
   "metadata": {
    "execution": {
     "iopub.execute_input": "2024-06-05T15:08:33.410923Z",
     "iopub.status.busy": "2024-06-05T15:08:33.410381Z",
     "iopub.status.idle": "2024-06-05T15:08:33.423627Z",
     "shell.execute_reply": "2024-06-05T15:08:33.422843Z",
     "shell.execute_reply.started": "2024-06-05T15:08:33.410892Z"
    },
    "tags": []
   },
   "outputs": [],
   "source": [
    "path_to_matching = 'matching_'\n",
    "\n",
    "match_results = pd.read_csv('results_matching.csv', header=None, names=['model', 'roc_auc'])\n",
    "match_results = match_results.set_index('model').loc[:, ['roc_auc']]\n",
    "match_results.head()"
   ]
  },
  {
   "cell_type": "code",
   "execution_count": null,
   "metadata": {
    "execution": {
     "iopub.execute_input": "2024-06-05T15:37:20.139477Z",
     "iopub.status.busy": "2024-06-05T15:37:20.138737Z",
     "iopub.status.idle": "2024-06-05T15:39:00.504813Z",
     "shell.execute_reply": "2024-06-05T15:39:00.503955Z",
     "shell.execute_reply.started": "2024-06-05T15:37:20.139445Z"
    },
    "tags": []
   },
   "outputs": [],
   "source": [
    "from sklearn.metrics import accuracy_score, roc_curve\n",
    "from scipy.optimize import brentq\n",
    "from scipy.interpolate import interp1d\n",
    "\n",
    "\n",
    "def eer(y_true, y_pred):\n",
    "    fpr, tpr, thresh = roc_curve(y_true, y_pred, pos_label=1)\n",
    "    eer = brentq(lambda x: 1. - x - interp1d(fpr, tpr)(x), 0., 1.)\n",
    "    return eer\n",
    "\n",
    "\n",
    "def get_metrics(df, rocauc):\n",
    "    metrics = dict()\n",
    "    y_true = df['target'].values\n",
    "    y_pred_prob = df['probability'].values\n",
    "    y_pred = np.where(y_pred_prob > 0.5, 1, 0)\n",
    "    metrics['Accuracy'] = accuracy_score(y_true, y_pred)\n",
    "    metrics['EER'] = eer(y_true, y_pred_prob)\n",
    "    metrics['ROCAUC'] = rocauc\n",
    "    return metrics\n",
    "\n",
    "all_metrics = dict()\n",
    "for name in tqdm(match_results.index):\n",
    "    data = sqlc.read.parquet(path_to_matching + name + '.parquet')\n",
    "    df = data.select('target', vector_to_array(F.col('probability')).getItem(1).alias('probability')).toPandas()\n",
    "    metrics = get_metrics(df, match_results.loc[name, 'roc_auc'])\n",
    "    all_metrics[name] = metrics\n",
    "\n",
    "matching_results = pd.DataFrame.from_dict(all_metrics, orient='index').sort_index()"
   ]
  },
  {
   "cell_type": "code",
   "execution_count": 196,
   "metadata": {
    "execution": {
     "iopub.execute_input": "2024-06-05T15:39:15.090551Z",
     "iopub.status.busy": "2024-06-05T15:39:15.089359Z",
     "iopub.status.idle": "2024-06-05T15:39:15.096579Z",
     "shell.execute_reply": "2024-06-05T15:39:15.095557Z",
     "shell.execute_reply.started": "2024-06-05T15:39:15.090518Z"
    }
   },
   "outputs": [],
   "source": [
    "matching_results.to_csv('results_matching.csv', sep='&')"
   ]
  },
  {
   "cell_type": "markdown",
   "metadata": {},
   "source": [
    "# Graphs"
   ]
  },
  {
   "cell_type": "code",
   "execution_count": null,
   "metadata": {
    "execution": {
     "iopub.execute_input": "2024-06-05T16:03:02.315133Z",
     "iopub.status.busy": "2024-06-05T16:03:02.314005Z",
     "iopub.status.idle": "2024-06-05T16:03:02.341014Z",
     "shell.execute_reply": "2024-06-05T16:03:02.339991Z",
     "shell.execute_reply.started": "2024-06-05T16:03:02.315081Z"
    },
    "tags": []
   },
   "outputs": [],
   "source": [
    "private_1 = pd.read_csv('unimodal_private.csv', sep='&').rename(columns = {'mean_ROCAUC': 'mean_ROCAUC_private'})\n",
    "private_2 = pd.read_csv('multimodal_private.csv', sep='&').rename(columns = {'Concat mean ROCAUC': 'mean_ROCAUC_private'})\n",
    "private = pd.concat([private_1, private_2]).loc[:, ['Unnamed: 0', 'mean_ROCAUC_private']].set_index('Unnamed: 0')\n",
    "private.head()"
   ]
  },
  {
   "cell_type": "code",
   "execution_count": null,
   "metadata": {
    "execution": {
     "iopub.execute_input": "2024-06-05T16:01:54.154549Z",
     "iopub.status.busy": "2024-06-05T16:01:54.154012Z",
     "iopub.status.idle": "2024-06-05T16:01:54.173295Z",
     "shell.execute_reply": "2024-06-05T16:01:54.172465Z",
     "shell.execute_reply.started": "2024-06-05T16:01:54.154518Z"
    },
    "tags": []
   },
   "outputs": [],
   "source": [
    "public_1 = pd.read_csv('unimodal_public.csv', sep='&').rename(columns = {'mean ROCAUC': 'mean_ROCAUC_public'})\n",
    "public_2 = pd.read_csv('multimodal_public.csv', sep='&').rename(columns = {'Concat mean ROCAUC': 'mean_ROCAUC_public'})\n",
    "public = pd.concat([public_1, public_2]).loc[:, ['Unnamed: 0', 'mean_ROCAUC_public']].set_index('Unnamed: 0')\n",
    "public.head()"
   ]
  },
  {
   "cell_type": "code",
   "execution_count": null,
   "metadata": {
    "execution": {
     "iopub.execute_input": "2024-06-05T16:03:28.093324Z",
     "iopub.status.busy": "2024-06-05T16:03:28.092763Z",
     "iopub.status.idle": "2024-06-05T16:03:28.104972Z",
     "shell.execute_reply": "2024-06-05T16:03:28.104103Z",
     "shell.execute_reply.started": "2024-06-05T16:03:28.093294Z"
    },
    "tags": []
   },
   "outputs": [],
   "source": [
    "pp = public.join(private, how='inner')"
   ]
  },
  {
   "cell_type": "code",
   "execution_count": 242,
   "metadata": {
    "execution": {
     "iopub.execute_input": "2024-06-05T16:13:00.471092Z",
     "iopub.status.busy": "2024-06-05T16:13:00.470493Z",
     "iopub.status.idle": "2024-06-05T16:13:00.873364Z",
     "shell.execute_reply": "2024-06-05T16:13:00.872412Z",
     "shell.execute_reply.started": "2024-06-05T16:13:00.471055Z"
    },
    "tags": []
   },
   "outputs": [
    {
     "data": {
      "image/png": "[encoded data removed]",
      "text/plain": [
       "<Figure size 640x480 with 1 Axes>"
      ]
     },
     "metadata": {},
     "output_type": "display_data"
    }
   ],
   "source": [
    "import matplotlib.pyplot as plt\n",
    "plt.scatter(pp['mean_ROCAUC_private'].values, pp['mean_ROCAUC_public'].values)\n",
    "plt.xlabel(\"Private data mean ROCAUC\")\n",
    "plt.ylabel(\"Public data mean ROCAUC\")\n",
    "plt.savefig('scatter.pdf')"
   ]
  },
  {
   "cell_type": "code",
   "execution_count": 233,
   "metadata": {
    "execution": {
     "iopub.execute_input": "2024-06-05T16:07:06.361986Z",
     "iopub.status.busy": "2024-06-05T16:07:06.361186Z",
     "iopub.status.idle": "2024-06-05T16:07:06.373844Z",
     "shell.execute_reply": "2024-06-05T16:07:06.372973Z",
     "shell.execute_reply.started": "2024-06-05T16:07:06.361955Z"
    }
   },
   "outputs": [
    {
     "data": {
      "text/plain": [
       "SignificanceResult(statistic=0.5665024630541872, pvalue=5.379779683462273e-06)"
      ]
     },
     "execution_count": 233,
     "metadata": {},
     "output_type": "execute_result"
    }
   ],
   "source": [
    "kendalltau(pp['mean_ROCAUC_public'].values, pp['mean_ROCAUC_private'].values)"
   ]
  },
  {
   "cell_type": "code",
   "execution_count": 235,
   "metadata": {
    "execution": {
     "iopub.execute_input": "2024-06-05T16:09:33.097990Z",
     "iopub.status.busy": "2024-06-05T16:09:33.097411Z",
     "iopub.status.idle": "2024-06-05T16:09:33.107769Z",
     "shell.execute_reply": "2024-06-05T16:09:33.106800Z",
     "shell.execute_reply.started": "2024-06-05T16:09:33.097943Z"
    },
    "tags": []
   },
   "outputs": [
    {
     "data": {
      "text/plain": [
       "SignificanceResult(statistic=0.5665024630541872, pvalue=5.379779683462273e-06)"
      ]
     },
     "execution_count": 235,
     "metadata": {},
     "output_type": "execute_result"
    }
   ],
   "source": [
    "kendalltau(pp['mean_ROCAUC_private'].values, pp['mean_ROCAUC_public'].values)"
   ]
  }
 ],
 "metadata": {
  "kernelspec": {
   "display_name": "py3.8_ailabmpack_1.1.0",
   "language": "python",
   "name": "ailabmpack"
  },
  "language_info": {
   "codemirror_mode": {
    "name": "ipython",
    "version": 3
   },
   "file_extension": ".py",
   "mimetype": "text/x-python",
   "name": "python",
   "nbconvert_exporter": "python",
   "pygments_lexer": "ipython3",
   "version": "3.8.14"
  }
 },
 "nbformat": 4,
 "nbformat_minor": 4
}
