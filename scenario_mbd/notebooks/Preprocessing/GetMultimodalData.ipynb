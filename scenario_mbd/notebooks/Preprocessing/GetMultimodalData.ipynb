{
 "cells": [
  {
   "cell_type": "code",
   "execution_count": 1,
   "id": "c7cb6bb3-f47b-48aa-9ad6-a595dcd12800",
   "metadata": {},
   "outputs": [],
   "source": [
    "import pandas as pd\n",
    "import numpy as np\n",
    "import os\n",
    "\n",
    "import pyspark\n",
    "from pyspark.sql import SparkSession\n",
    "import pyspark.sql.functions as F\n",
    "from pyspark.sql import types as T\n",
    "\n",
    "os.environ['JAVA_HOME']= '/home/jovyan/conda/kalash/lib/jvm'\n",
    "\n",
    "spark_conf = pyspark.SparkConf()\n",
    "spark_conf.setMaster(\"local[*]\").setAppName(\"JoinModality\")\n",
    "spark_conf.set(\"spark.driver.maxResultSize\", \"16g\")\n",
    "spark_conf.set(\"spark.executor.memory\", \"32g\")\n",
    "spark_conf.set(\"spark.executor.memoryOverhead\", \"16g\")\n",
    "spark_conf.set(\"spark.driver.memory\", \"32g\")\n",
    "spark_conf.set(\"spark.driver.memoryOverhead\", \"16g\")\n",
    "spark_conf.set(\"spark.cores.max\", \"24\")\n",
    "spark_conf.set(\"spark.sql.shuffle.partitions\", \"200\")\n",
    "spark_conf.set(\"spark.local.dir\", \"../../spark_local_dir\")\n",
    "\n",
    "\n",
    "spark = SparkSession.builder.config(conf=spark_conf).getOrCreate()\n",
    "spark.sparkContext.getConf().getAll()"
   ]
  },
  {
   "cell_type": "code",
   "execution_count": 4,
   "id": "345d906c-69db-4615-ab87-8cbee6b05a70",
   "metadata": {},
   "outputs": [],
   "source": [
    "TRX_DATA_PATH = 'scenario_mbd/data/dataset-huggingface/ptls/trx/'\n",
    "GEO_DATA_PATH = 'scenario_mbd/data/dataset-huggingface/ptls/geo/'\n",
    "DIAL_DATA_PATH = 'scenario_mbd/data/dataset-huggingface/ptls/dialog/'\n",
    "\n",
    "MM_DATA_PATH = 'scenario_mbd_data/mm_dataset/'"
   ]
  },
  {
   "cell_type": "code",
   "execution_count": 5,
   "id": "c4c91bcc-117e-4a9b-b54f-7db8e72efc8c",
   "metadata": {},
   "outputs": [],
   "source": [
    "def rename_col(df, prefix, col_id='client_id'):\n",
    "    new_column_names = [f\"{prefix}_{col}\" for col in df.columns if col != col_id]\n",
    "    old_column_names = [col for col in df.columns if col != col_id]\n",
    "    for old_col, new_col in zip(old_column_names, new_column_names):\n",
    "        df = df.withColumnRenamed(old_col, new_col)\n",
    "    return df"
   ]
  },
  {
   "cell_type": "code",
   "execution_count": null,
   "id": "3b39bd43-3de1-4f55-acb7-f288d67481dc",
   "metadata": {},
   "outputs": [],
   "source": [
    "for fold in range(-1, 5):\n",
    "    trx = spark.read.parquet(os.path.join(TRX_DATA_PATH, f'fold={fold}'))\n",
    "    geo = spark.read.parquet(os.path.join(GEO_DATA_PATH, f'fold={fold}'))\n",
    "    dial = spark.read.parquet(os.path.join(DIAL_DATA_PATH, f'fold={fold}'))\n",
    "    \n",
    "    trx = rename_col(trx, 'trx')\n",
    "    geo = rename_col(geo, 'geo')\n",
    "    dial = rename_col(dial, 'dial')\n",
    "    \n",
    "    mm_dataset = trx.join(geo, on='client_id', how='outer').join(dial, on='client_id', how='outer')\n",
    "    mm_dataset.write.mode('overwrite').parquet(os.path.join(MM_DATA_PATH, f'fold={fold}'))\n",
    "    "
   ]
  },
  {
   "cell_type": "markdown",
   "id": "5cfe25f9-5bed-4b76-a5b3-da9d4e497787",
   "metadata": {},
   "source": [
    "# Targets"
   ]
  },
  {
   "cell_type": "code",
   "execution_count": 7,
   "id": "09bb0beb-b3d3-44c6-b780-430339e23196",
   "metadata": {},
   "outputs": [
    {
     "name": "stderr",
     "output_type": "stream",
     "text": [
      "\n",
      "libgomp: Invalid value for environment variable OMP_NUM_THREADS\n",
      "\n",
      "libgomp: Invalid value for environment variable OMP_NUM_THREADS\n"
     ]
    }
   ],
   "source": [
    "from ptls.preprocessing import PysparkDataPreprocessor"
   ]
  },
  {
   "cell_type": "code",
   "execution_count": 8,
   "id": "da6e4226-67ce-48d0-8898-f48240c57dea",
   "metadata": {},
   "outputs": [],
   "source": [
    "TARGETS_DATA_PATH = 'scenario_mbd/data/dataset-huggingface/targets'"
   ]
  },
  {
   "cell_type": "code",
   "execution_count": 9,
   "id": "e1dd278a-3053-4255-9a9f-248173c6f395",
   "metadata": {},
   "outputs": [],
   "source": [
    "preprocessor_target = PysparkDataPreprocessor(\n",
    "    col_id=\"client_id\",\n",
    "    col_event_time=\"mon\",\n",
    "    event_time_transformation=\"dt_to_timestamp\",\n",
    "    cols_identity=[\"target_1\", \"target_2\", \"target_3\", \"target_4\"],\n",
    ")"
   ]
  },
  {
   "cell_type": "code",
   "execution_count": 10,
   "id": "fc96337a-570a-48e6-9689-c24b9462fa52",
   "metadata": {},
   "outputs": [
    {
     "name": "stderr",
     "output_type": "stream",
     "text": [
      "                                                                                \r"
     ]
    }
   ],
   "source": [
    "for fold in range(5):\n",
    "    targets = spark.read.parquet(os.path.join(TARGETS_DATA_PATH , f'fold={fold}'))\n",
    "    mm_dataset = spark.read.parquet(os.path.join(MM_DATA_PATH , f'fold={fold}'))\n",
    "    \n",
    "    targets = preprocessor_target.fit_transform(targets)\n",
    "    mm_dataset = mm_dataset.join(targets, on='client_id', how='left').drop(*['event_time', 'trans_count', 'diff_trans_date'])\n",
    "    mm_dataset.write.parquet(os.path.join(MMT_DATA_PATH, f'fold={fold}'))\n",
    "    \n",
    "    "
   ]
  },
  {
   "cell_type": "code",
   "execution_count": 11,
   "id": "899875c3-47f9-488b-8973-d1feabe7a274",
   "metadata": {},
   "outputs": [],
   "source": [
    "spark.stop()"
   ]
  }
 ],
 "metadata": {
  "kernelspec": {
   "display_name": "ptls-experiments",
   "language": "python",
   "name": "ptls-experiments"
  },
  "language_info": {
   "codemirror_mode": {
    "name": "ipython",
    "version": 3
   },
   "file_extension": ".py",
   "mimetype": "text/x-python",
   "name": "python",
   "nbconvert_exporter": "python",
   "pygments_lexer": "ipython3",
   "version": "3.8.19"
  }
 },
 "nbformat": 4,
 "nbformat_minor": 5
}
