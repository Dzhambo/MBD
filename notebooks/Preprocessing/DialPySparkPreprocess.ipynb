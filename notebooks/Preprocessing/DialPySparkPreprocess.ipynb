{
 "cells": [
  {
   "cell_type": "code",
   "execution_count": 1,
   "id": "05e5b28f-a22e-4db4-9991-dd4386e81848",
   "metadata": {},
   "outputs": [
    {
     "name": "stderr",
     "output_type": "stream",
     "text": [
      "\n",
      "libgomp: Invalid value for environment variable OMP_NUM_THREADS\n",
      "\n",
      "libgomp: Invalid value for environment variable OMP_NUM_THREADS\n"
     ]
    }
   ],
   "source": [
    "%load_ext autoreload\n",
    "%autoreload 2\n",
    "\n",
    "import logging\n",
    "import torch\n",
    "import pytorch_lightning as pl\n",
    "import os\n",
    "import pyspark\n",
    "from pyspark.sql import SparkSession\n",
    "import pyspark.sql.functions as F\n",
    "from pyspark.sql import types as T\n",
    "from ptls.preprocessing import PysparkDataPreprocessor"
   ]
  },
  {
   "cell_type": "code",
   "execution_count": 3,
   "id": "c78f17f7-6940-48eb-a277-2d8587f8d06a",
   "metadata": {},
   "outputs": [],
   "source": [
    "import os\n",
    "import pyspark\n",
    "from pyspark.sql import SparkSession\n",
    "import pyspark.sql.functions as F\n",
    "from pyspark.sql import types as T"
   ]
  },
  {
   "cell_type": "code",
   "execution_count": null,
   "id": "633307c6-730a-4f69-899e-2ab048b8b082",
   "metadata": {},
   "outputs": [],
   "source": [
    "data_path = 'data/'\n",
    "\n",
    "spark_conf = pyspark.SparkConf()\n",
    "spark_conf.setMaster(\"local[*]\").setAppName(\"PysparkDataPreprocessor\")\n",
    "spark_conf.set(\"spark.driver.maxResultSize\", \"4g\")\n",
    "spark_conf.set(\"spark.executor.memory\", \"16g\")\n",
    "spark_conf.set(\"spark.executor.memoryOverhead\", \"4g\")\n",
    "spark_conf.set(\"spark.driver.memory\", \"16g\")\n",
    "spark_conf.set(\"spark.driver.memoryOverhead\", \"4g\")\n",
    "spark_conf.set(\"spark.cores.max\", \"24\")\n",
    "spark_conf.set(\"spark.sql.shuffle.partitions\", \"200\")\n",
    "spark_conf.set(\"spark.local.dir\", \"../../spark_local_dir\")\n",
    "\n",
    "\n",
    "spark = SparkSession.builder.config(conf=spark_conf).getOrCreate()\n",
    "spark.sparkContext.getConf().getAll()"
   ]
  },
  {
   "cell_type": "markdown",
   "id": "2ea935dd-3329-454d-8a3e-9849a6f3df23",
   "metadata": {},
   "source": [
    "# Dial"
   ]
  },
  {
   "cell_type": "code",
   "execution_count": null,
   "id": "5248a6d4-8949-4662-97d8-99a7c17083d8",
   "metadata": {},
   "outputs": [],
   "source": [
    "dial_train = spark.read.parquet('dial_train.parquet')\n",
    "dial_test = spark.read.parquet('dial_test.parquet')"
   ]
  },
  {
   "cell_type": "markdown",
   "id": "f6dea793-7ca9-4f7d-9c46-a398fee4f602",
   "metadata": {},
   "source": [
    "# Targets"
   ]
  },
  {
   "cell_type": "code",
   "execution_count": null,
   "id": "ba4cc824-2b0e-4659-93c7-bb5c2cdbeb9d",
   "metadata": {},
   "outputs": [],
   "source": [
    "train_target = spark.read.parquet('train_target.parquet')"
   ]
  },
  {
   "cell_type": "code",
   "execution_count": null,
   "id": "796f9bf1-938c-494a-992b-3a346c6da341",
   "metadata": {},
   "outputs": [],
   "source": [
    "preprocessor_target = PysparkDataPreprocessor(\n",
    "    col_id=\"client_id\",\n",
    "    col_event_time=\"mon\",\n",
    "    event_time_transformation=\"dt_to_timestamp\",\n",
    "    cols_identity=[\"target_1\", \"target_2\", \"target_3\", \"target_4\"],\n",
    ")\n",
    "processed_target = preprocessor_target.fit_transform(train_target).drop('event_time')"
   ]
  },
  {
   "cell_type": "code",
   "execution_count": null,
   "id": "83c5a0d7-9432-48a8-bd84-de0de47934dd",
   "metadata": {},
   "outputs": [],
   "source": [
    "processed_train = processed_train.join(processed_target, processed_target.client_id == processed_train.client_id, 'left').drop(processed_target.client_id)"
   ]
  },
  {
   "cell_type": "code",
   "execution_count": null,
   "id": "a58cce27-ec60-4f3d-aaf7-259f0304a5cc",
   "metadata": {},
   "outputs": [],
   "source": [
    "processed_train.write.parquet('dial_train_prepr.parquet', mode='overwrite')\n",
    "processed_test.write.parquet('dial_test_prepr.parquet', mode='overwrite')"
   ]
  }
 ],
 "metadata": {
  "kernelspec": {
   "display_name": "kalash_cuda116_ptls",
   "language": "python",
   "name": "kalash_cuda116_ptls"
  },
  "language_info": {
   "codemirror_mode": {
    "name": "ipython",
    "version": 3
   },
   "file_extension": ".py",
   "mimetype": "text/x-python",
   "name": "python",
   "nbconvert_exporter": "python",
   "pygments_lexer": "ipython3",
   "version": "3.8.18"
  }
 },
 "nbformat": 4,
 "nbformat_minor": 5
}
