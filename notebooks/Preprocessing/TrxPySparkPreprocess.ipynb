{
 "cells": [
  {
   "cell_type": "code",
   "execution_count": null,
   "id": "05e5b28f-a22e-4db4-9991-dd4386e81848",
   "metadata": {},
   "outputs": [],
   "source": [
    "%load_ext autoreload\n",
    "%autoreload 2\n",
    "\n",
    "import logging\n",
    "import torch\n",
    "import pytorch_lightning as pl\n",
    "import os\n",
    "import pyspark\n",
    "from pyspark.sql import SparkSession\n",
    "import pyspark.sql.functions as F\n",
    "from pyspark.sql import types as T\n",
    "from ptls.preprocessing import PysparkDataPreprocessor"
   ]
  },
  {
   "cell_type": "code",
   "execution_count": 3,
   "id": "c78f17f7-6940-48eb-a277-2d8587f8d06a",
   "metadata": {},
   "outputs": [],
   "source": [
    "import os\n",
    "import pyspark\n",
    "from pyspark.sql import SparkSession\n",
    "import pyspark.sql.functions as F\n",
    "from pyspark.sql import types as T"
   ]
  },
  {
   "cell_type": "code",
   "execution_count": null,
   "id": "633307c6-730a-4f69-899e-2ab048b8b082",
   "metadata": {},
   "outputs": [],
   "source": [
    "data_path = 'data/'\n",
    "\n",
    "spark_conf = pyspark.SparkConf()\n",
    "spark_conf.setMaster(\"local[*]\").setAppName(\"PysparkDataPreprocessor\")\n",
    "spark_conf.set(\"spark.driver.maxResultSize\", \"16g\")\n",
    "spark_conf.set(\"spark.executor.memory\", \"32g\")\n",
    "spark_conf.set(\"spark.executor.memoryOverhead\", \"16g\")\n",
    "spark_conf.set(\"spark.driver.memory\", \"32g\")\n",
    "spark_conf.set(\"spark.driver.memoryOverhead\", \"16g\")\n",
    "spark_conf.set(\"spark.cores.max\", \"24\")\n",
    "spark_conf.set(\"spark.sql.shuffle.partitions\", \"200\")\n",
    "spark_conf.set(\"spark.local.dir\", \"../../spark_local_dir\")\n",
    "\n",
    "\n",
    "spark = SparkSession.builder.config(conf=spark_conf).getOrCreate()\n",
    "spark.sparkContext.getConf().getAll()"
   ]
  },
  {
   "cell_type": "markdown",
   "id": "2ea935dd-3329-454d-8a3e-9849a6f3df23",
   "metadata": {},
   "source": [
    "# Trx"
   ]
  },
  {
   "cell_type": "code",
   "execution_count": 6,
   "id": "5248a6d4-8949-4662-97d8-99a7c17083d8",
   "metadata": {},
   "outputs": [],
   "source": [
    "trx_train = spark.read.parquet('trx_train.parquet')\n",
    "trx_test = spark.read.parquet('trx_test.parquet')"
   ]
  },
  {
   "cell_type": "code",
   "execution_count": null,
   "id": "ec7c795c-47b5-4add-b5b8-53aa2c92a365",
   "metadata": {},
   "outputs": [],
   "source": [
    "preprocessor_trx = PysparkDataPreprocessor(\n",
    "    col_id=\"client_id\",\n",
    "    col_event_time=\"event_time\",\n",
    "    event_time_transformation=\"dt_to_timestamp\",\n",
    "    cols_category=[\n",
    "        \"event_type\",\n",
    "        \"event_subtype\",\n",
    "        \"currency\",\n",
    "        \"src_type11\",\n",
    "        \"src_type12\",\n",
    "        \"dst_type11\",\n",
    "        \"dst_type12\",\n",
    "        \"src_type21\",\n",
    "        \"src_type22\",\n",
    "        \"src_type31\",\n",
    "        \"src_type32\"\n",
    "    ],\n",
    "    cols_identity=\"amount\",\n",
    ")\n",
    "\n",
    "processed_train = preprocessor_trx.fit_transform(trx_train)\n",
    "processed_test = preprocessor_trx.transform(trx_test)"
   ]
  },
  {
   "cell_type": "markdown",
   "id": "f6dea793-7ca9-4f7d-9c46-a398fee4f602",
   "metadata": {},
   "source": [
    "# Targets"
   ]
  },
  {
   "cell_type": "code",
   "execution_count": 8,
   "id": "ba4cc824-2b0e-4659-93c7-bb5c2cdbeb9d",
   "metadata": {},
   "outputs": [],
   "source": [
    "train_target = spark.read.parquet('train_target.parquet')"
   ]
  },
  {
   "cell_type": "code",
   "execution_count": 9,
   "id": "796f9bf1-938c-494a-992b-3a346c6da341",
   "metadata": {},
   "outputs": [],
   "source": [
    "preprocessor_target = PysparkDataPreprocessor(\n",
    "    col_id=\"client_id\",\n",
    "    col_event_time=\"mon\",\n",
    "    event_time_transformation=\"dt_to_timestamp\",\n",
    "    cols_identity=[\"target_1\", \"target_2\", \"target_3\", \"target_4\"],\n",
    ")\n",
    "processed_target = preprocessor_target.fit_transform(train_target).drop('event_time')"
   ]
  },
  {
   "cell_type": "code",
   "execution_count": 10,
   "id": "83c5a0d7-9432-48a8-bd84-de0de47934dd",
   "metadata": {},
   "outputs": [],
   "source": [
    "processed_train = processed_train.join(processed_target, processed_target.client_id == processed_train.client_id, 'inner').drop(processed_target.client_id)"
   ]
  },
  {
   "cell_type": "code",
   "execution_count": 11,
   "id": "a58cce27-ec60-4f3d-aaf7-259f0304a5cc",
   "metadata": {},
   "outputs": [
    {
     "name": "stderr",
     "output_type": "stream",
     "text": [
      "                                                                                \r"
     ]
    }
   ],
   "source": [
    "processed_train.write.parquet('trx_train_prepr.parquet', mode='overwrite')\n",
    "processed_test.write.parquet('trx_test_prepr.parquet', mode='overwrite')"
   ]
  },
  {
   "cell_type": "code",
   "execution_count": null,
   "id": "7fa49540-9376-45a2-9f75-de3546f67325",
   "metadata": {},
   "outputs": [],
   "source": []
  },
  {
   "cell_type": "code",
   "execution_count": null,
   "id": "5899dcc6-be44-469a-bb43-cf853e8dc398",
   "metadata": {},
   "outputs": [],
   "source": []
  }
 ],
 "metadata": {
  "kernelspec": {
   "display_name": "ptls_new",
   "language": "python",
   "name": "ptls_new"
  },
  "language_info": {
   "codemirror_mode": {
    "name": "ipython",
    "version": 3
   },
   "file_extension": ".py",
   "mimetype": "text/x-python",
   "name": "python",
   "nbconvert_exporter": "python",
   "pygments_lexer": "ipython3",
   "version": "3.8.18"
  }
 },
 "nbformat": 4,
 "nbformat_minor": 5
}
