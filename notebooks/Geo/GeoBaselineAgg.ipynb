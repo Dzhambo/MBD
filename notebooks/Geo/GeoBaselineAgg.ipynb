{
 "cells": [
  {
   "cell_type": "code",
   "execution_count": 1,
   "id": "c7f7fe90-2d0c-4cce-853a-079ffb802c49",
   "metadata": {
    "execution": {
     "iopub.execute_input": "2024-05-22T16:34:19.199989Z",
     "iopub.status.busy": "2024-05-22T16:34:19.199855Z",
     "iopub.status.idle": "2024-05-22T16:34:21.444290Z",
     "shell.execute_reply": "2024-05-22T16:34:21.444137Z",
     "shell.execute_reply.started": "2024-05-22T16:34:19.199933Z"
    },
    "tags": []
   },
   "outputs": [],
   "source": [
    "import pandas as pd\n",
    "import numpy as np\n",
    "import torch\n",
    "from glob import glob\n",
    "from torch.utils.data import DataLoader\n",
    "\n",
    "from ptls.data_load import IterableChain\n",
    "from ptls.data_load.iterable_processing.iterable_seq_len_limit import ISeqLenLimit\n",
    "from ptls.data_load.iterable_processing.category_size_clip import CategorySizeClip\n",
    "from ptls.data_load.iterable_processing.to_torch_tensor import ToTorch\n",
    "from ptls.data_load.iterable_processing.target_move import TargetMove\n",
    "from ptls.data_load.datasets.parquet_dataset import ParquetDataset, ParquetFiles\n",
    "from ptls.data_load.iterable_processing.feature_filter import FeatureFilter\n",
    "\n",
    "from functools import partial\n",
    "from ptls.nn import TrxEncoder, RnnSeqEncoder\n",
    "from ptls.frames.coles import CoLESModule\n",
    "from ptls.data_load.iterable_processing import SeqLenFilter\n",
    "from ptls.frames.coles import ColesIterableDataset\n",
    "from ptls.frames.coles.split_strategy import SampleSlices\n",
    "from ptls.frames import PtlsDataModule\n",
    "from ptls.data_load.datasets import inference_data_loader\n",
    "from sklearn.model_selection import train_test_split\n",
    "\n",
    "import pytorch_lightning as pl\n",
    "\n",
    "import logging\n",
    "import pickle\n",
    "\n",
    "from itertools import groupby\n",
    "from functools import reduce\n",
    "from operator import iadd\n",
    "\n",
    "from collections import defaultdict\n",
    "\n",
    "from ptls.data_load.feature_dict import FeatureDict\n",
    "from ptls.frames.coles.split_strategy import AbsSplit\n",
    "\n",
    "from functools import partial\n",
    "from ptls.nn import TrxEncoder\n",
    "from ptls.nn.seq_encoder.rnn_encoder import RnnEncoder\n",
    "from ptls.frames.coles.coles_module import CoLESModule\n",
    "from ptls.frames.inference_module import InferenceModule\n",
    "\n",
    "import warnings\n",
    "warnings.filterwarnings(\"ignore\")\n",
    "\n",
    "from ptls.data_load.utils import collate_feature_dict\n",
    "from tqdm.auto import tqdm\n",
    "import lightgbm as ltb\n",
    "import json\n",
    "\n",
    "torch.multiprocessing.set_sharing_strategy('file_system')"
   ]
  },
  {
   "cell_type": "markdown",
   "id": "af005486-1ad4-466e-9119-935c91ffea2e",
   "metadata": {},
   "source": [
    "# Data preprocessing"
   ]
  },
  {
   "cell_type": "code",
   "execution_count": 2,
   "id": "6c7d5a89-9480-4b6f-bfd0-7414e25d6e87",
   "metadata": {
    "execution": {
     "iopub.execute_input": "2024-05-22T16:34:21.444495Z",
     "iopub.status.busy": "2024-05-22T16:34:21.444452Z",
     "iopub.status.idle": "2024-05-22T16:34:21.445203Z",
     "shell.execute_reply": "2024-05-22T16:34:21.445135Z",
     "shell.execute_reply.started": "2024-05-22T16:34:21.444471Z"
    },
    "tags": []
   },
   "outputs": [],
   "source": [
    "train_data_path = 'geo_train_prepr.parquet'\n",
    "valid_data_path = 'geo_test_prepr.parquet'"
   ]
  },
  {
   "cell_type": "code",
   "execution_count": 3,
   "id": "387d4b8c-31be-4825-bf0d-8313500841ff",
   "metadata": {
    "execution": {
     "iopub.execute_input": "2024-05-22T16:34:21.445346Z",
     "iopub.status.busy": "2024-05-22T16:34:21.445287Z",
     "iopub.status.idle": "2024-05-22T16:34:21.447152Z",
     "shell.execute_reply": "2024-05-22T16:34:21.447084Z",
     "shell.execute_reply.started": "2024-05-22T16:34:21.445312Z"
    },
    "tags": []
   },
   "outputs": [],
   "source": [
    "process = IterableChain(\n",
    "            SeqLenFilter(min_seq_len=32),\n",
    "            ISeqLenLimit(max_seq_len=1024),\n",
    "            FeatureFilter(drop_feature_names=['client_id', 'target_1', 'target_2', 'target_3', 'target_4']),\n",
    "            ToTorch()\n",
    ")"
   ]
  },
  {
   "cell_type": "code",
   "execution_count": 4,
   "id": "60cbc69d-ce3a-4dfe-8bf7-0b0023250b78",
   "metadata": {
    "execution": {
     "iopub.execute_input": "2024-05-22T16:34:21.447287Z",
     "iopub.status.busy": "2024-05-22T16:34:21.447241Z",
     "iopub.status.idle": "2024-05-22T16:34:21.448568Z",
     "shell.execute_reply": "2024-05-22T16:34:21.448497Z",
     "shell.execute_reply.started": "2024-05-22T16:34:21.447262Z"
    },
    "tags": []
   },
   "outputs": [],
   "source": [
    "train = ParquetDataset([train_data_path], post_processing=process, shuffle_files=True)\n",
    "valid = ParquetDataset([valid_data_path], post_processing=process)"
   ]
  },
  {
   "cell_type": "code",
   "execution_count": 5,
   "id": "09c504c0-f971-42d9-9461-d88a275bd80f",
   "metadata": {
    "execution": {
     "iopub.execute_input": "2024-05-22T16:34:21.448705Z",
     "iopub.status.busy": "2024-05-22T16:34:21.448654Z",
     "iopub.status.idle": "2024-05-22T16:34:21.449991Z",
     "shell.execute_reply": "2024-05-22T16:34:21.449925Z",
     "shell.execute_reply.started": "2024-05-22T16:34:21.448679Z"
    },
    "tags": []
   },
   "outputs": [],
   "source": [
    "train_dl = DataLoader(\n",
    "        dataset=train,\n",
    "        collate_fn=collate_feature_dict,\n",
    "        shuffle=False,\n",
    "        num_workers=16,\n",
    "        batch_size=256,\n",
    "    )"
   ]
  },
  {
   "cell_type": "markdown",
   "id": "33d99af1-02ec-4dc7-9672-742c03b65696",
   "metadata": {},
   "source": [
    "# Model"
   ]
  },
  {
   "cell_type": "code",
   "execution_count": 6,
   "id": "d262191f-251e-4f3a-b90e-c58486d8592a",
   "metadata": {
    "execution": {
     "iopub.execute_input": "2024-05-22T16:34:21.450125Z",
     "iopub.status.busy": "2024-05-22T16:34:21.450076Z",
     "iopub.status.idle": "2024-05-22T16:34:21.451533Z",
     "shell.execute_reply": "2024-05-22T16:34:21.451467Z",
     "shell.execute_reply.started": "2024-05-22T16:34:21.450099Z"
    },
    "tags": []
   },
   "outputs": [],
   "source": [
    "from ptls.nn import AggFeatureSeqEncoder"
   ]
  },
  {
   "cell_type": "code",
   "execution_count": 7,
   "id": "66ecf4a6-6432-4c34-ad68-b652e3b652a8",
   "metadata": {
    "execution": {
     "iopub.execute_input": "2024-05-22T16:34:21.451665Z",
     "iopub.status.busy": "2024-05-22T16:34:21.451619Z",
     "iopub.status.idle": "2024-05-22T16:34:21.452763Z",
     "shell.execute_reply": "2024-05-22T16:34:21.452704Z",
     "shell.execute_reply.started": "2024-05-22T16:34:21.451640Z"
    },
    "tags": []
   },
   "outputs": [],
   "source": [
    "trx_encoder_params = dict(\n",
    "    was_logified=False,\n",
    "    log_scale_factor=1,\n",
    "    numeric_values={},\n",
    "    embeddings={\n",
    "        \"geohash_4\": {'in': 10000},\n",
    "        \"geohash_5\": {'in': 10000},\n",
    "        'geohash_6': {'in': 10000},\n",
    "      }\n",
    ")"
   ]
  },
  {
   "cell_type": "code",
   "execution_count": 8,
   "id": "be9fb2fd-86f0-46e5-9b8b-ea1df42d8a23",
   "metadata": {
    "execution": {
     "iopub.execute_input": "2024-05-22T16:34:21.515368Z",
     "iopub.status.busy": "2024-05-22T16:34:21.515267Z",
     "iopub.status.idle": "2024-05-22T16:34:22.297060Z",
     "shell.execute_reply": "2024-05-22T16:34:22.295630Z",
     "shell.execute_reply.started": "2024-05-22T16:34:21.515313Z"
    },
    "tags": []
   },
   "outputs": [],
   "source": [
    "model = AggFeatureSeqEncoder(**trx_encoder_params)"
   ]
  },
  {
   "cell_type": "markdown",
   "id": "2df91ab4-b046-4503-8391-bc6378ada9b2",
   "metadata": {},
   "source": [
    "# Inference"
   ]
  },
  {
   "cell_type": "code",
   "execution_count": 9,
   "id": "29ee789b-cb32-4909-9090-7a2d87ceb855",
   "metadata": {
    "execution": {
     "iopub.execute_input": "2024-05-22T16:34:22.129226Z",
     "iopub.status.busy": "2024-05-22T16:34:22.129152Z",
     "iopub.status.idle": "2024-05-22T16:34:22.130247Z",
     "shell.execute_reply": "2024-05-22T16:34:22.130181Z",
     "shell.execute_reply.started": "2024-05-22T16:34:22.129192Z"
    },
    "tags": []
   },
   "outputs": [],
   "source": [
    "from ptls.data_load.iterable_processing_dataset import IterableProcessingDataset\n",
    "from datetime import datetime\n",
    "from ptls.data_load.padded_batch import PaddedBatch"
   ]
  },
  {
   "cell_type": "code",
   "execution_count": 10,
   "id": "d7333db4-0930-4776-aa39-c47cdac276f1",
   "metadata": {
    "execution": {
     "iopub.execute_input": "2024-05-22T16:34:22.152847Z",
     "iopub.status.busy": "2024-05-22T16:34:22.152781Z",
     "iopub.status.idle": "2024-05-22T16:34:22.158817Z",
     "shell.execute_reply": "2024-05-22T16:34:22.158757Z",
     "shell.execute_reply.started": "2024-05-22T16:34:22.152816Z"
    },
    "tags": []
   },
   "outputs": [],
   "source": [
    "class GetSplit(IterableProcessingDataset):\n",
    "    def __init__(\n",
    "        self,\n",
    "        start_month,\n",
    "        end_month,\n",
    "        year=2022,\n",
    "        col_id='client_id',\n",
    "        col_time='event_time'\n",
    "    ):\n",
    "        super().__init__()\n",
    "        self.start_month = start_month\n",
    "        self.end_month = end_month\n",
    "        self._year = year\n",
    "        self._col_id = col_id\n",
    "        self._col_time = col_time\n",
    "        \n",
    "    def __iter__(self):\n",
    "        for rec in self._src:\n",
    "            for month in range(self.start_month, self.end_month+1):\n",
    "                features = rec[0] if type(rec) is tuple else rec\n",
    "                features = features.copy()\n",
    "                \n",
    "                if month == 12:\n",
    "                    month_event_time = datetime(self._year + 1, 1, 1).timestamp()\n",
    "                else:\n",
    "                    month_event_time = datetime(self._year, month + 1, 1).timestamp()\n",
    "                    \n",
    "                year_event_time = datetime(self._year, 1, 1).timestamp()\n",
    "                \n",
    "                mask = features[self._col_time] < month_event_time\n",
    "                \n",
    "                for key, tensor in features.items():\n",
    "                    if key.startswith('target'):\n",
    "                        features[key] = tensor[month - 1].tolist()    \n",
    "                    elif key != self._col_id:\n",
    "                        features[key] = tensor[mask] \n",
    "                            \n",
    "                features[self._col_id] += '_month=' + str(month)\n",
    "\n",
    "                yield features\n",
    "                \n",
    "def collate_feature_dict_with_target(batch, col_id='client_id', targets=False):\n",
    "    batch_ids = []\n",
    "    target_cols = []\n",
    "    for sample in batch:\n",
    "        batch_ids.append(sample[col_id])\n",
    "        del sample[col_id]\n",
    "        \n",
    "        if targets:\n",
    "            target_cols.append([sample[f'target_{i}'] for i in range(1, 5)])\n",
    "            del sample['target_1']\n",
    "            del sample['target_2']\n",
    "            del sample['target_3']\n",
    "            del sample['target_4']\n",
    "            \n",
    "    padded_batch = collate_feature_dict(batch)\n",
    "    if targets:\n",
    "        return padded_batch, batch_ids, target_cols\n",
    "    return padded_batch, batch_ids\n",
    "\n",
    "\n",
    "class InferenceModuleMultimodal(pl.LightningModule):\n",
    "    def __init__(self, model, pandas_output=True, drop_seq_features=True, model_out_name='out'):\n",
    "        super().__init__()\n",
    "\n",
    "        self.model = model\n",
    "        self.pandas_output = pandas_output\n",
    "        self.drop_seq_features = drop_seq_features\n",
    "        self.model_out_name = model_out_name\n",
    "\n",
    "    def forward(self, x):\n",
    "        x_len = len(x)\n",
    "        if x_len == 3:\n",
    "            x, batch_ids, target_cols = x\n",
    "        else: \n",
    "            x, batch_ids = x\n",
    "            \n",
    "        out = self.model(x)\n",
    "        if x_len == 3:\n",
    "            target_cols = torch.tensor(target_cols)\n",
    "            x_out = {\n",
    "                'client_id': batch_ids,\n",
    "                'target_1': target_cols[:, 0],\n",
    "                'target_2': target_cols[:, 1],\n",
    "                'target_3': target_cols[:, 2],\n",
    "                'target_4': target_cols[:, 3],\n",
    "                self.model_out_name: out\n",
    "            }\n",
    "        else:\n",
    "            x_out = {\n",
    "                'client_id': batch_ids,\n",
    "                self.model_out_name: out\n",
    "            }\n",
    "\n",
    "        if self.pandas_output:\n",
    "            return self.to_pandas(x_out)\n",
    "        return x_out\n",
    "\n",
    "    @staticmethod\n",
    "    def to_pandas(x):\n",
    "        expand_cols = []\n",
    "        scalar_features = {}\n",
    "\n",
    "        for k, v in x.items():\n",
    "            if type(v) is torch.Tensor:\n",
    "                v = v.cpu().numpy()\n",
    "\n",
    "            if type(v) is list or len(v.shape) == 1:\n",
    "                scalar_features[k] = v\n",
    "            elif len(v.shape) == 2:\n",
    "                expand_cols.append(k)\n",
    "            else:\n",
    "                scalar_features[k] = None\n",
    "\n",
    "        dataframes = [pd.DataFrame(scalar_features)]\n",
    "        for col in expand_cols:\n",
    "            v = x[col].cpu().numpy()\n",
    "            dataframes.append(pd.DataFrame(v, columns=[f'{col}_{i:04d}' for i in range(v.shape[1])]))\n",
    "\n",
    "        return pd.concat(dataframes, axis=1)"
   ]
  },
  {
   "cell_type": "code",
   "execution_count": 11,
   "id": "12dec37c-4975-494a-9425-a5d4f8d56626",
   "metadata": {
    "execution": {
     "iopub.execute_input": "2024-05-22T16:34:22.373007Z",
     "iopub.status.busy": "2024-05-22T16:34:22.372904Z",
     "iopub.status.idle": "2024-05-22T16:34:22.374260Z",
     "shell.execute_reply": "2024-05-22T16:34:22.374201Z",
     "shell.execute_reply.started": "2024-05-22T16:34:22.372960Z"
    },
    "tags": []
   },
   "outputs": [],
   "source": [
    "train_process = IterableChain(\n",
    "            ISeqLenLimit(max_seq_len=1024),\n",
    "            FeatureFilter(keep_feature_names=['client_id', 'target_1', 'target_2', 'target_3', 'target_4']),\n",
    "            GetSplit(start_month=1, end_month=12),\n",
    "            ToTorch()\n",
    ")\n",
    "\n",
    "test_process = IterableChain(\n",
    "            ISeqLenLimit(max_seq_len=1024),\n",
    "            FeatureFilter(keep_feature_names=['client_id'], drop_feature_names=['target_1', 'target_2', 'target_3', 'target_4']),\n",
    "            ToTorch()\n",
    ")\n",
    "\n",
    "\n",
    "train = ParquetDataset([train_data_path], post_processing=train_process)\n",
    "test = ParquetDataset([valid_data_path], post_processing=test_process)"
   ]
  },
  {
   "cell_type": "code",
   "execution_count": 12,
   "id": "d6989271-0c43-4b64-8d28-1a10494a2233",
   "metadata": {
    "execution": {
     "iopub.execute_input": "2024-05-22T16:34:22.755513Z",
     "iopub.status.busy": "2024-05-22T16:34:22.755409Z",
     "iopub.status.idle": "2024-05-22T16:34:22.756831Z",
     "shell.execute_reply": "2024-05-22T16:34:22.756759Z",
     "shell.execute_reply.started": "2024-05-22T16:34:22.755465Z"
    },
    "tags": []
   },
   "outputs": [],
   "source": [
    "inference_train_dl = DataLoader(\n",
    "        dataset=train,\n",
    "        collate_fn=partial(collate_feature_dict_with_target, targets=True),\n",
    "        shuffle=False,\n",
    "        num_workers=16,\n",
    "        batch_size=512,\n",
    "    )\n",
    "\n",
    "inference_test_dl = DataLoader(\n",
    "        dataset=test,\n",
    "        collate_fn=collate_feature_dict_with_target,\n",
    "        shuffle=False,\n",
    "        num_workers=16,\n",
    "        batch_size=512,\n",
    "    )"
   ]
  },
  {
   "cell_type": "code",
   "execution_count": 13,
   "id": "cb97e8e1-daeb-46a2-940c-0d2ff013b3b2",
   "metadata": {
    "execution": {
     "iopub.execute_input": "2024-05-22T16:34:23.162823Z",
     "iopub.status.busy": "2024-05-22T16:34:23.162719Z",
     "iopub.status.idle": "2024-05-22T16:34:23.182481Z",
     "shell.execute_reply": "2024-05-22T16:34:23.182418Z",
     "shell.execute_reply.started": "2024-05-22T16:34:23.162775Z"
    },
    "tags": []
   },
   "outputs": [],
   "source": [
    "inf_module = InferenceModuleMultimodal(\n",
    "        model=model,\n",
    "        pandas_output=True,\n",
    "        drop_seq_features=True,\n",
    "        model_out_name='emb',\n",
    "    )"
   ]
  },
  {
   "cell_type": "code",
   "execution_count": 14,
   "id": "220e5cfd-2e71-4f5c-a507-f6bc02785596",
   "metadata": {
    "execution": {
     "iopub.execute_input": "2024-05-22T16:34:23.654064Z",
     "iopub.status.busy": "2024-05-22T16:34:23.653958Z",
     "iopub.status.idle": "2024-05-22T16:34:23.679466Z",
     "shell.execute_reply": "2024-05-22T16:34:23.679372Z",
     "shell.execute_reply.started": "2024-05-22T16:34:23.654016Z"
    },
    "tags": []
   },
   "outputs": [
    {
     "name": "stderr",
     "output_type": "stream",
     "text": [
      "GPU available: True, used: True\n",
      "TPU available: False, using: 0 TPU cores\n",
      "IPU available: False, using: 0 IPUs\n",
      "HPU available: False, using: 0 HPUs\n"
     ]
    }
   ],
   "source": [
    "trainer = pl.Trainer(gpus=[0], max_epochs=-1)"
   ]
  },
  {
   "cell_type": "code",
   "execution_count": null,
   "id": "0bcd052e-3a57-4226-95cb-357d65a04ece",
   "metadata": {
    "collapsed": true,
    "execution": {
     "iopub.execute_input": "2024-05-22T16:34:24.934560Z",
     "iopub.status.busy": "2024-05-22T16:34:24.933380Z",
     "iopub.status.idle": "2024-05-22T16:34:32.320529Z",
     "shell.execute_reply": "2024-05-22T16:34:32.169458Z",
     "shell.execute_reply.started": "2024-05-22T16:34:24.93403Z"
    },
    "jupyter": {
     "outputs_hidden": true
    },
    "tags": []
   },
   "outputs": [],
   "source": [
    "inf_test_embeddings = pd.concat(\n",
    "        trainer.predict(inf_module, inference_test_dl)\n",
    "    )\n",
    "inf_test_embeddings.to_parquet(\"geo_baseline_agg_test.parquet\", index=False, engine=\"pyarrow\", compression=\"snappy\")"
   ]
  },
  {
   "cell_type": "code",
   "execution_count": null,
   "id": "9d36b1eb-5a96-4ebf-9a61-15e1a2660d6b",
   "metadata": {
    "tags": []
   },
   "outputs": [],
   "source": [
    "del inf_test_embeddings"
   ]
  },
  {
   "cell_type": "code",
   "execution_count": null,
   "id": "e0113d8a-b3b9-45a5-b57c-982b58b5e7ab",
   "metadata": {
    "tags": []
   },
   "outputs": [],
   "source": [
    "inf_train_embeddings = pd.concat(\n",
    "        trainer.predict(inf_module, inference_train_dl)\n",
    "    )\n",
    "inf_train_embeddings.to_parquet(\"geo_baseline_agg_train.parquet\", index=False, engine=\"pyarrow\", compression=\"snappy\")"
   ]
  },
  {
   "cell_type": "code",
   "execution_count": null,
   "id": "db74cb9b-f2a5-480c-b96c-6cfe5f71ff79",
   "metadata": {
    "tags": []
   },
   "outputs": [],
   "source": [
    "del inf_train_embeddings"
   ]
  }
 ],
 "metadata": {
  "kernelspec": {
   "display_name": "XPython Python 3.8.8",
   "language": "python",
   "name": "xpython38"
  },
  "language_info": {
   "file_extension": ".py",
   "mimetype": "text/x-python",
   "name": "python",
   "version": "3.8.12"
  }
 },
 "nbformat": 4,
 "nbformat_minor": 5
}
