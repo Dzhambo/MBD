{
 "cells": [
  {
   "cell_type": "code",
   "execution_count": null,
   "metadata": {},
   "outputs": [],
   "source": [
    "import pandas as pd\n",
    "import numpy as np\n",
    "import os\n",
    "\n",
    "import pyspark\n",
    "from pyspark.sql import SparkSession\n",
    "import pyspark.sql.functions as F\n",
    "from pyspark.sql import types as T\n",
    "from ptls.preprocessing import PysparkDataPreprocessor\n",
    "\n",
    "os.environ['JAVA_HOME']= '/home/jovyan/conda/kalash/lib/jvm'\n",
    "\n",
    "spark_conf = pyspark.SparkConf()\n",
    "spark_conf.setMaster(\"local[*]\").setAppName(\"JoinModality\")\n",
    "spark_conf.set(\"spark.driver.maxResultSize\", \"16g\")\n",
    "spark_conf.set(\"spark.executor.memory\", \"32g\")\n",
    "spark_conf.set(\"spark.executor.memoryOverhead\", \"16g\")\n",
    "spark_conf.set(\"spark.driver.memory\", \"32g\")\n",
    "spark_conf.set(\"spark.driver.memoryOverhead\", \"16g\")\n",
    "spark_conf.set(\"spark.cores.max\", \"24\")\n",
    "spark_conf.set(\"spark.sql.shuffle.partitions\", \"200\")\n",
    "spark_conf.set(\"spark.local.dir\", \"../../spark_local_dir\")\n",
    "\n",
    "\n",
    "spark = SparkSession.builder.config(conf=spark_conf).getOrCreate()\n",
    "spark.sparkContext.getConf().getAll()"
   ]
  },
  {
   "cell_type": "code",
   "execution_count": 6,
   "metadata": {},
   "outputs": [],
   "source": [
    "transactions = spark.read.csv('../data/raw_data/transactions.csv', header=True)\n",
    "clickstream = spark.read.csv('../data/raw_data/clickstream.csv', header=True)\n",
    "train_matching = spark.read.csv('../data/raw_data/train_matching.csv', header=True)\n",
    "train_edu = spark.read.csv('../data/raw_data/train_edu.csv', header=True)\n",
    "\n",
    "click_categories = spark.read.csv('../data/raw_data/click_categories.csv', header=True)\n",
    "clickstream = clickstream.join(click_categories, on='cat_id')"
   ]
  },
  {
   "cell_type": "markdown",
   "metadata": {},
   "source": [
    "# Preprocessing"
   ]
  },
  {
   "cell_type": "code",
   "execution_count": 5,
   "metadata": {},
   "outputs": [
    {
     "name": "stderr",
     "output_type": "stream",
     "text": [
      "24/09/28 15:03:37 WARN GarbageCollectionMetrics: To enable non-built-in garbage collector(s) List(G1 Concurrent GC), users should configure it(them) to spark.eventLog.gcMetrics.youngGenerationGarbageCollectors or spark.eventLog.gcMetrics.oldGenerationGarbageCollectors\n",
      "                                                                                \r"
     ]
    },
    {
     "data": {
      "text/plain": [
       "(22533, 19623, 8509, 17581, 14672)"
      ]
     },
     "execution_count": 5,
     "metadata": {},
     "output_type": "execute_result"
    }
   ],
   "source": [
    "transactions.select('user_id').distinct().count(), clickstream.select('user_id').distinct().count(), train_edu.select('bank').distinct().count(), train_matching.select('bank').distinct().count(), train_matching.select('rtk').distinct().count()"
   ]
  },
  {
   "cell_type": "markdown",
   "metadata": {},
   "source": [
    "# Transform to PTLS format"
   ]
  },
  {
   "cell_type": "code",
   "execution_count": 6,
   "metadata": {},
   "outputs": [],
   "source": [
    "preprocessor_trx = PysparkDataPreprocessor(\n",
    "        col_id='user_id',\n",
    "        col_event_time='transaction_dttm',\n",
    "        event_time_transformation='dt_to_timestamp',\n",
    "        cols_category=[\"mcc_code\", \"currency_rk\"],\n",
    "    )\n",
    "\n",
    "\n",
    "preprocessor_click = PysparkDataPreprocessor(\n",
    "    col_id='user_id',\n",
    "    col_event_time='timestamp',\n",
    "    event_time_transformation='dt_to_timestamp',\n",
    "    cols_category=['cat_id', 'level_0', 'level_1', 'level_2'],\n",
    ")"
   ]
  },
  {
   "cell_type": "code",
   "execution_count": null,
   "metadata": {},
   "outputs": [],
   "source": [
    "transactions_prepared = preprocessor_trx.fit_transform(transactions)\n",
    "clickstream_prepared = preprocessor_click.fit_transform(clickstream)\n"
   ]
  },
  {
   "cell_type": "markdown",
   "metadata": {},
   "source": [
    "# Get user_id for matching"
   ]
  },
  {
   "cell_type": "code",
   "execution_count": 9,
   "metadata": {},
   "outputs": [
    {
     "name": "stderr",
     "output_type": "stream",
     "text": [
      "[Stage 84:>                                                         (0 + 1) / 1]\r"
     ]
    },
    {
     "name": "stdout",
     "output_type": "stream",
     "text": [
      "+--------------------+--------------------+--------------------+--------------------+--------------------+--------------------+--------------------+\n",
      "|          event_time|              cat_id|             new_uid|             level_0|             level_1|             level_2|             user_id|\n",
      "+--------------------+--------------------+--------------------+--------------------+--------------------+--------------------+--------------------+\n",
      "|[1616456760, 1616...|[1, 1, 1, 1, 1, 1...|[411399, 411399, ...|[1, 1, 1, 1, 1, 1...|[1, 1, 1, 1, 1, 1...|[1, 1, 1, 1, 1, 1...|95f2446d41fc4536b...|\n",
      "|[1612148340, 1612...|[3, 12, 5, 12, 40...|[1840824, 1840824...|[3, 5, 5, 5, 38, ...|[1, 2, 1, 2, 1, 1...|[1, 1, 1, 1, 1, 1...|89d5b991d5dc4c5d8...|\n",
      "+--------------------+--------------------+--------------------+--------------------+--------------------+--------------------+--------------------+\n",
      "only showing top 2 rows\n",
      "\n"
     ]
    },
    {
     "name": "stderr",
     "output_type": "stream",
     "text": [
      "                                                                                \r"
     ]
    }
   ],
   "source": [
    "train_matching = train_matching.withColumnRenamed('rtk', 'user_id')\n",
    "clickstream_prepared = clickstream_prepared.join(train_matching, on='user_id', how='outer').drop('user_id')\n",
    "clickstream_prepared  = clickstream_prepared.withColumnRenamed('bank', 'user_id')\n",
    "clickstream_prepared.show(2)"
   ]
  },
  {
   "cell_type": "code",
   "execution_count": 10,
   "metadata": {},
   "outputs": [],
   "source": [
    "clickstream_prepared = clickstream_prepared.withColumnRenamed('event_time', 'click_event_time')\n",
    "transactions_prepared = transactions_prepared.withColumnRenamed('event_time', 'trx_event_time')"
   ]
  },
  {
   "cell_type": "markdown",
   "metadata": {},
   "source": [
    "# Join"
   ]
  },
  {
   "cell_type": "code",
   "execution_count": 11,
   "metadata": {},
   "outputs": [
    {
     "name": "stderr",
     "output_type": "stream",
     "text": [
      "[Stage 96:>                                                         (0 + 1) / 1]\r"
     ]
    },
    {
     "name": "stdout",
     "output_type": "stream",
     "text": [
      "+--------------------+--------------------+--------------------+--------------------+--------------------+--------------------+--------------------+--------------------+--------------------+--------------------+--------------------+\n",
      "|             user_id|      trx_event_time|            mcc_code|         currency_rk|     transaction_amt|    click_event_time|              cat_id|             new_uid|             level_0|             level_1|             level_2|\n",
      "+--------------------+--------------------+--------------------+--------------------+--------------------+--------------------+--------------------+--------------------+--------------------+--------------------+--------------------+\n",
      "|0012e60b16f14da4b...|[1596243049, 1596...|[1, 23, 7, 1, 1, ...|[1, 1, 1, 1, 1, 1...|[-398.97632, -195...|[1611561647, 1611...|[29, 1, 27, 9, 9,...|[1439071, 1079747...|[26, 1, 25, 9, 9,...|[1, 1, 1, 1, 1, 1...|[1, 1, 1, 1, 1, 1...|\n",
      "|003d93fb918846ada...|[1596247679, 1596...|[5, 5, 8, 2, 29, ...|[1, 1, 1, 1, 1, 1...|[-3700.245, -928....|[1613289436, 1613...|[7, 13, 13, 4, 1,...|[557419, 557419, ...|[8, 12, 12, 4, 1,...|[1, 1, 1, 1, 1, 1...|[1, 1, 1, 1, 1, 1...|\n",
      "|004b3ef36faa40f08...|[1596259472, 1596...|[28, 3, 6, 6, 75,...|[1, 1, 1, 1, 1, 1...|[-98.54724, -265....|[1610985570, 1611...|[14, 4, 12, 40, 2...|[881028, 881028, ...|[13, 4, 5, 38, 2,...|[1, 1, 2, 1, 1, 2...|[1, 1, 1, 1, 1, 1...|\n",
      "|011d7da66de347b2b...|[1595934178, 1596...|[1, 41, 1, 1, 1, ...|[1, 1, 1, 1, 1, 1...|[-293.0613, -859....|[1611716391, 1611...|[1, 1, 1, 1, 1, 2...|[760873, 760873, ...|[1, 1, 1, 1, 1, 2...|[1, 1, 1, 1, 1, 1...|[1, 1, 1, 1, 1, 1...|\n",
      "|0184194d5e104a978...|[1601096339, 1601...|[2, 1, 1, 3, 57, ...|[1, 1, 1, 1, 1, 1...|[-150.85928, -128...|[1611797438, 1612...|[12, 12, 2, 6, 42...|[396565, 396565, ...|[5, 5, 2, 7, 40, ...|[2, 2, 1, 1, 1, 1...|[1, 1, 1, 1, 1, 1...|\n",
      "+--------------------+--------------------+--------------------+--------------------+--------------------+--------------------+--------------------+--------------------+--------------------+--------------------+--------------------+\n",
      "only showing top 5 rows\n",
      "\n"
     ]
    },
    {
     "name": "stderr",
     "output_type": "stream",
     "text": [
      "                                                                                \r"
     ]
    }
   ],
   "source": [
    "mm_dataset = transactions_prepared.join(clickstream_prepared, on='user_id', how='outer')\n",
    "mm_dataset.show(5)"
   ]
  },
  {
   "cell_type": "code",
   "execution_count": 12,
   "metadata": {},
   "outputs": [],
   "source": [
    "train_edu = train_edu.withColumnRenamed('bank', 'user_id')"
   ]
  },
  {
   "cell_type": "code",
   "execution_count": 13,
   "metadata": {},
   "outputs": [],
   "source": [
    "mm_dataset = mm_dataset.join(train_edu, on='user_id', how='outer')"
   ]
  },
  {
   "cell_type": "code",
   "execution_count": 14,
   "metadata": {},
   "outputs": [
    {
     "name": "stderr",
     "output_type": "stream",
     "text": [
      "[Stage 109:=====================================================> (28 + 1) / 29]\r"
     ]
    },
    {
     "name": "stdout",
     "output_type": "stream",
     "text": [
      "+--------------------+--------------------+--------------------+--------------------+--------------------+--------------------+--------------------+--------------------+--------------------+--------------------+--------------------+----------------+\n",
      "|             user_id|      trx_event_time|            mcc_code|         currency_rk|     transaction_amt|    click_event_time|              cat_id|             new_uid|             level_0|             level_1|             level_2|higher_education|\n",
      "+--------------------+--------------------+--------------------+--------------------+--------------------+--------------------+--------------------+--------------------+--------------------+--------------------+--------------------+----------------+\n",
      "|0012e60b16f14da4b...|[1596243049, 1596...|[1, 23, 7, 1, 1, ...|[1, 1, 1, 1, 1, 1...|[-398.97632, -195...|[1611561647, 1611...|[29, 1, 27, 9, 9,...|[1439071, 1079747...|[26, 1, 25, 9, 9,...|[1, 1, 1, 1, 1, 1...|[1, 1, 1, 1, 1, 1...|            null|\n",
      "+--------------------+--------------------+--------------------+--------------------+--------------------+--------------------+--------------------+--------------------+--------------------+--------------------+--------------------+----------------+\n",
      "only showing top 1 row\n",
      "\n"
     ]
    },
    {
     "name": "stderr",
     "output_type": "stream",
     "text": [
      "                                                                                \r"
     ]
    }
   ],
   "source": [
    "mm_dataset.show(1)"
   ]
  },
  {
   "cell_type": "code",
   "execution_count": 15,
   "metadata": {},
   "outputs": [
    {
     "name": "stderr",
     "output_type": "stream",
     "text": [
      "                                                                                \r"
     ]
    }
   ],
   "source": [
    "mm_dataset.write.mode('overwrite').parquet('../data/mm_dataset.parquet')"
   ]
  },
  {
   "cell_type": "markdown",
   "metadata": {},
   "source": [
    "# Split by fold "
   ]
  },
  {
   "cell_type": "code",
   "execution_count": 2,
   "metadata": {},
   "outputs": [],
   "source": [
    "mm_dataset = spark.read.parquet('../data/mm_dataset.parquet')"
   ]
  },
  {
   "cell_type": "code",
   "execution_count": 3,
   "metadata": {},
   "outputs": [
    {
     "name": "stderr",
     "output_type": "stream",
     "text": [
      "24/09/28 15:21:22 WARN GarbageCollectionMetrics: To enable non-built-in garbage collector(s) List(G1 Concurrent GC), users should configure it(them) to spark.eventLog.gcMetrics.youngGenerationGarbageCollectors or spark.eventLog.gcMetrics.oldGenerationGarbageCollectors\n",
      "                                                                                \r"
     ]
    }
   ],
   "source": [
    "mm_dataset_fold0, mm_dataset_fold1, mm_dataset_fold2,  mm_dataset_fold3, mm_dataset_fold4 = mm_dataset.randomSplit([0.2, 0.2, 0.2, 0.2, 0.2], seed=42)\n",
    "mm_dataset_fold0.write.mode('overwrite').parquet('../data/mm_dataset_fold/fold=0')\n",
    "mm_dataset_fold1.write.mode('overwrite').parquet('../data/mm_dataset_fold/fold=1')\n",
    "mm_dataset_fold2.write.mode('overwrite').parquet('../data/mm_dataset_fold/fold=2')\n",
    "mm_dataset_fold3.write.mode('overwrite').parquet('../data/mm_dataset_fold/fold=3')\n",
    "mm_dataset_fold4.write.mode('overwrite').parquet('../data/mm_dataset_fold/fold=4')"
   ]
  },
  {
   "cell_type": "code",
   "execution_count": 7,
   "metadata": {},
   "outputs": [],
   "source": [
    "spark.stop()"
   ]
  }
 ],
 "metadata": {
  "kernelspec": {
   "display_name": "nlp_env",
   "language": "python",
   "name": "python3"
  },
  "language_info": {
   "codemirror_mode": {
    "name": "ipython",
    "version": 3
   },
   "file_extension": ".py",
   "mimetype": "text/x-python",
   "name": "python",
   "nbconvert_exporter": "python",
   "pygments_lexer": "ipython3",
   "version": "3.9.18"
  }
 },
 "nbformat": 4,
 "nbformat_minor": 2
}
